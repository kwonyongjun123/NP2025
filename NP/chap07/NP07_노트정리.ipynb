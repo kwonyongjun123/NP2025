{
 "cells": [
  {
   "cell_type": "code",
   "execution_count": null,
   "id": "dc997812",
   "metadata": {},
   "outputs": [],
   "source": [
    "#My module.py"
   ]
  }
 ],
 "metadata": {
  "language_info": {
   "name": "python"
  }
 },
 "nbformat": 4,
 "nbformat_minor": 5
}
