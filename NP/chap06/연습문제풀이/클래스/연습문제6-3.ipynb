{
 "cells": [
  {
   "cell_type": "markdown",
   "id": "18492dd8",
   "metadata": {},
   "source": [
    "Moneybox 클래스를 작성하라. 이 클래스는 저축한 총액을 저장하는 인스턴스 변수가 있다.\n",
    "deposit(money) 메서드는 인수로 주어진 금액만큼 저축하고 총액을 출력한다,\n",
    "extract(money) 메소드는 money를 인출하고 총액을 출력한다. get_total() 메소드는 총액을\n",
    "알려준다.\n",
    "❖ my_money = Moneybox() 객체를 생성하고 1000원을 저축하고, 200원을 인출한 다음, 총액\n",
    "을 출력하라.\n"
   ]
  },
  {
   "cell_type": "code",
   "execution_count": null,
   "id": "6fb8444a",
   "metadata": {
    "vscode": {
     "languageId": "plaintext"
    }
   },
   "outputs": [],
   "source": [
    "class Moneybox:\n",
    "    def __init__(self):\n",
    "        self._total = 0\n",
    "\n",
    "    def deposit(self, money):\n",
    "        self._total += money\n",
    "        print(f\"{money}원을 저축합니다.\")\n",
    "        self.get_total()\n",
    "\n",
    "    def extract(self, money):\n",
    "        if self._total >= money:\n",
    "            self._total -= money\n",
    "            print(f\"{money}원을 인출합니다.\")\n",
    "        else:\n",
    "            print(\"잔액이 부족하여 인출할 수 없습니다.\")\n",
    "        self.get_total()\n",
    "\n",
    "    def get_total(self):\n",
    "        print(f\"현재 총액: {self._total}원\")\n",
    "        return self._total"
   ]
  },
  {
   "cell_type": "code",
   "execution_count": null,
   "id": "ab748d3e",
   "metadata": {
    "vscode": {
     "languageId": "plaintext"
    }
   },
   "outputs": [],
   "source": [
    "my_money = Moneybox()\n",
    "\n",
    "my_money.deposit(1000)\n",
    "my_money.extract(200)\n",
    "\n",
    "print(\"\\n최종 총액 확인:\")\n",
    "my_money.get_total()"
   ]
  }
 ],
 "metadata": {
  "language_info": {
   "name": "python"
  }
 },
 "nbformat": 4,
 "nbformat_minor": 5
}
