{
 "cells": [
  {
   "cell_type": "markdown",
   "id": "bc8b50bd",
   "metadata": {},
   "source": [
    "❖ Password_manager 클래스를 작성하라. 이 클래스는 사용자의 모든 과거 패스워드를 저장하\n",
    "는 old_passwords 리스트 변수를 갖는다. 리스트의 마지막 요소는 현재 패스워드이다. 현재 패\n",
    "스워드를 알려주는 get_password와 새로운 패스워드를 설정하는 set_password 메소드를 정\n",
    "의하라. set_password는 과거에 사용하지 않은 새로운 패스워드를 설정할 때만 유효하다. 문자\n",
    "열을 입력받아 현재 패스워드와 같은지 True 또는 False를 반환하는 is_correct 메소드를 정의\n",
    "하라."
   ]
  },
  {
   "cell_type": "code",
   "execution_count": null,
   "id": "bbe18e53",
   "metadata": {
    "vscode": {
     "languageId": "plaintext"
    }
   },
   "outputs": [],
   "source": [
    "class Password_manager:\n",
    "    def __init__(self, initial_password):\n",
    "        self.old_passwords = [initial_password]\n",
    "\n",
    "    def get_password(self):\n",
    "        if self.old_passwords:\n",
    "            return self.old_passwords[-1]\n",
    "        return None\n",
    "\n",
    "    def set_password(self, new_password):\n",
    "        if new_password in self.old_passwords:\n",
    "            print(\"🚨 오류: 이 패스워드는 이전에 사용되었습니다. 새로운 패스워드를 사용하십시오.\")\n",
    "            return False\n",
    "        \n",
    "        self.old_passwords.append(new_password)\n",
    "        print(\"✅ 새 패스워드가 성공적으로 설정되었습니다.\")\n",
    "        return True\n",
    "\n",
    "    def is_correct(self, password_attempt):\n",
    "        current_password = self.get_password()\n",
    "        \n",
    "        if current_password is None:\n",
    "            return False\n",
    "            \n",
    "        return password_attempt == current_password"
   ]
  }
 ],
 "metadata": {
  "language_info": {
   "name": "python"
  }
 },
 "nbformat": 4,
 "nbformat_minor": 5
}
