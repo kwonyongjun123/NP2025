{
 "cells": [
  {
   "cell_type": "markdown",
   "id": "bff6e324",
   "metadata": {},
   "source": [
    "고정길이 전화번호부"
   ]
  },
  {
   "cell_type": "code",
   "execution_count": null,
   "id": "fb65e782",
   "metadata": {},
   "outputs": [],
   "source": [
    "class ContactRecord:\n",
    "    def __init__(self, phone: str, name: str, age: int = None):\n",
    "    self.phone = phone\n",
    "    self.name = name\n",
    "    self.age = age if age is not None else 0\n",
    "def __str__(self) -> str:\n",
    "    return f\"전화번호: {self.phone}, 이름: {self.name}, 나이: {self.age}\"\n",
    "# 테스트용 연락처 데이터\n",
    "contacts = [\n",
    "    ContactRecord(\"010-1234-5678\", \"홍길동\", 25),\n",
    "    ContactRecord(\"010-2345-6789\", \"김철수\", 30),\n",
    "    ContactRecord(\"010-3456-7890\", \"이영희\", 28),\n",
    "    ContactRecord(\"010-4567-8901\", \"박민수\", 35)\n",
    "]"
   ]
  },
  {
   "cell_type": "markdown",
   "id": "b06c2440",
   "metadata": {},
   "source": [
    "레코드 바이트 패킹/언패킹 함수 정의"
   ]
  },
  {
   "cell_type": "code",
   "execution_count": null,
   "id": "322006b0",
   "metadata": {},
   "outputs": [],
   "source": [
    "import struct\n",
    "\n",
    "def pack_contact_record(contact: ContactRecord) -> bytes:\n",
    "\t\"\"\"\n",
    "\tContactRecord 객체를 36바이트 레코드로 패킹하는 함수\n",
    "\t포맷:\n",
    "\t- 전화번호: 16바이트 문자열\n",
    "\t- 이름: 16바이트 문자열\n",
    "\t- 나이: 4바이트 정수\n",
    "\t\"\"\"\n",
    "\t# 문자열을 바이트로 변환하고 고정 길이로 맞춤, 나머지는 NULL문자(b'\\x00')로 채움\n",
    "\tphone_bytes = contact.phone.encode('utf-8')[:16].ljust(16, b'\\x00')\n",
    "\tname_bytes = contact.name.encode('utf-8')[:16].ljust(16, b'\\x00')\n",
    "\t# struct.pack으로 36바이트 레코드 생성\n",
    "\t# 16s: 16바이트 문자열 (전화번호)\n",
    "\t# 16s: 16바이트 문자열 (이름)\n",
    "\t# i: 4바이트 정수 (나이)\n",
    "\treturn struct.pack(\"16s16si\", phone_bytes, name_bytes, contact.age)\n",
    "\n",
    "def unpack_contact_record(record: bytes) -> ContactRecord:\n",
    "\tphone_bytes, name_bytes, age = struct.unpack(\"16s16si\", record) # struct.unpack으로 데이터 추출\n",
    "\tphone = phone_bytes.rstrip(b'\\x00').decode('utf-8', errors='ignore') # 널 바이트 제거하고 디코딩\n",
    "\tname = name_bytes.rstrip(b'\\x00').decode('utf-8', errors='ignore') # 널 바이트 제거하고 디코딩\n",
    "\treturn ContactRecord(phone, name, age)"
   ]
  }
 ],
 "metadata": {
  "language_info": {
   "name": "python"
  }
 },
 "nbformat": 4,
 "nbformat_minor": 5
}
