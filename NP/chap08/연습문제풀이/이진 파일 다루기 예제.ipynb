{
 "cells": [
  {
   "cell_type": "markdown",
   "id": "a179c7f2",
   "metadata": {},
   "source": [
    "고정길이 전화번호부"
   ]
  },
  {
   "cell_type": "code",
   "execution_count": 1,
   "id": "d0d89fab",
   "metadata": {},
   "outputs": [
    {
     "ename": "IndentationError",
     "evalue": "expected an indented block after function definition on line 2 (846697366.py, line 3)",
     "output_type": "error",
     "traceback": [
      "  \u001b[36mCell\u001b[39m\u001b[36m \u001b[39m\u001b[32mIn[1]\u001b[39m\u001b[32m, line 3\u001b[39m\n\u001b[31m    \u001b[39m\u001b[31mself.phone = phone\u001b[39m\n    ^\n\u001b[31mIndentationError\u001b[39m\u001b[31m:\u001b[39m expected an indented block after function definition on line 2\n"
     ]
    }
   ],
   "source": [
    "class ContactRecord:\n",
    "    def __init__(self, phone: str, name: str, age: int = None):\n",
    "    self.phone = phone\n",
    "    self.name = name\n",
    "    self.age = age if age is not None else 0\n",
    "def __str__(self) -> str:\n",
    "    return f\"전화번호: {self.phone}, 이름: {self.name}, 나이: {self.age}\"\n",
    "# 테스트용 연락처 데이터\n",
    "contacts = [\n",
    "    ContactRecord(\"010-1234-5678\", \"홍길동\", 25),\n",
    "    ContactRecord(\"010-2345-6789\", \"김철수\", 30),\n",
    "    ContactRecord(\"010-3456-7890\", \"이영희\", 28),\n",
    "    ContactRecord(\"010-4567-8901\", \"박민수\", 35)\n",
    "]"
   ]
  },
  {
   "cell_type": "markdown",
   "id": "d2144d76",
   "metadata": {},
   "source": [
    "레코드 바이트 패킹/언패킹 함수 정의"
   ]
  },
  {
   "cell_type": "code",
   "execution_count": null,
   "id": "9c5122f0",
   "metadata": {},
   "outputs": [],
   "source": [
    "import struct\n",
    "\n",
    "def pack_contact_record(contact: ContactRecord) -> bytes:\n",
    "\t\"\"\"\n",
    "\tContactRecord 객체를 36바이트 레코드로 패킹하는 함수\n",
    "\t포맷:\n",
    "\t- 전화번호: 16바이트 문자열\n",
    "\t- 이름: 16바이트 문자열\n",
    "\t- 나이: 4바이트 정수\n",
    "\t\"\"\"\n",
    "\t# 문자열을 바이트로 변환하고 고정 길이로 맞춤, 나머지는 NULL문자(b'\\x00')로 채움\n",
    "\tphone_bytes = contact.phone.encode('utf-8')[:16].ljust(16, b'\\x00')\n",
    "\tname_bytes = contact.name.encode('utf-8')[:16].ljust(16, b'\\x00')\n",
    "\t# struct.pack으로 36바이트 레코드 생성\n",
    "\t# 16s: 16바이트 문자열 (전화번호)\n",
    "\t# 16s: 16바이트 문자열 (이름)\n",
    "\t# i: 4바이트 정수 (나이)\n",
    "\treturn struct.pack(\"16s16si\", phone_bytes, name_bytes, contact.age)\n",
    "\n",
    "def unpack_contact_record(record: bytes) -> ContactRecord:\n",
    "\tphone_bytes, name_bytes, age = struct.unpack(\"16s16si\", record) # struct.unpack으로 데이터 추출\n",
    "\tphone = phone_bytes.rstrip(b'\\x00').decode('utf-8', errors='ignore') # 널 바이트 제거하고 디코딩\n",
    "\tname = name_bytes.rstrip(b'\\x00').decode('utf-8', errors='ignore') # 널 바이트 제거하고 디코딩\n",
    "\treturn ContactRecord(phone, name, age)"
   ]
  }
 ],
 "metadata": {
  "kernelspec": {
   "display_name": ".venv",
   "language": "python",
   "name": "python3"
  },
  "language_info": {
   "codemirror_mode": {
    "name": "ipython",
    "version": 3
   },
   "file_extension": ".py",
   "mimetype": "text/x-python",
   "name": "python",
   "nbconvert_exporter": "python",
   "pygments_lexer": "ipython3",
   "version": "3.13.7"
  }
 },
 "nbformat": 4,
 "nbformat_minor": 5
}
