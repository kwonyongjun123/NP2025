{
 "cells": [
  {
   "cell_type": "markdown",
   "id": "7bbb9678",
   "metadata": {},
   "source": [
    "1. 키보드에서 임의의 두 실수를 입력 받아 곱한 후 그 결과를 출력하는 프로그램을 작성하고 실행\n",
    "하라\n",
    "2. 1마일은 1.609km이다. 키보드에서 마일(정수)을 입력 받아 km로 변환해 출력하는 프로그램을\n",
    "작성하고 실행하라\n",
    "3. 원의 반지름을 입력 받아 원의 둘레와 원의 면적을 출력하는 프로그램을 작성하라\n"
   ]
  },
  {
   "cell_type": "code",
   "execution_count": 1,
   "id": "33ebc13e",
   "metadata": {},
   "outputs": [
    {
     "name": "stdout",
     "output_type": "stream",
     "text": [
      "입력한 두 실수의 곱은 2.0입니다.\n"
     ]
    }
   ],
   "source": [
    "#1\n",
    "num1 = float(input(\"첫 번째 실수를 입력하세요: \"))\n",
    "num2 = float(input(\"두 번째 실수를 입력하세요: \"))\n",
    "\n",
    "result = num1 * num2\n",
    "\n",
    "print(f\"입력한 두 실수의 곱은 {result}입니다.\")"
   ]
  },
  {
   "cell_type": "code",
   "execution_count": null,
   "id": "2c417c42",
   "metadata": {},
   "outputs": [],
   "source": [
    "#2\n",
    "one_mile_to_km = 1.609\n",
    "\n",
    "miles = int(input(\"마일을 입력하세요: \"))\n",
    "\n",
    "kilometers = miles * one_mile_to_km\n",
    "\n",
    "print(f\"변환된 값: {miles} 마일은 {kilometers} 킬로미터입니다.\")"
   ]
  },
  {
   "cell_type": "code",
   "execution_count": null,
   "id": "8bf6ef05",
   "metadata": {},
   "outputs": [],
   "source": [
    "#3\n",
    "\n",
    "PI = 3.14159\n",
    "\n",
    "radius = float(input(\"원의 반지름을 입력하세요: \"))\n",
    "\n",
    "circumference = 2 * PI * radius\n",
    "\n",
    "area = PI * radius * radius  # 또는 PI * radius**2\n",
    "\n",
    "# 결과를 출력합니다.\n",
    "print(\"반지름이\", radius, \"인 원의 둘레:\", circumference)\n",
    "print(\"반지름이\", radius, \"인 원의 면적:\", area)"
   ]
  }
 ],
 "metadata": {
  "kernelspec": {
   "display_name": ".venv",
   "language": "python",
   "name": "python3"
  },
  "language_info": {
   "codemirror_mode": {
    "name": "ipython",
    "version": 3
   },
   "file_extension": ".py",
   "mimetype": "text/x-python",
   "name": "python",
   "nbconvert_exporter": "python",
   "pygments_lexer": "ipython3",
   "version": "3.13.7"
  }
 },
 "nbformat": 4,
 "nbformat_minor": 5
}
