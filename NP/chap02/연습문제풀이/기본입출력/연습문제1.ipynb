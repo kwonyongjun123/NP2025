{
 "cells": [
  {
   "cell_type": "markdown",
   "id": "7bbb9678",
   "metadata": {},
   "source": [
    "1. 키보드에서 임의의 두 실수를 입력 받아 곱한 후 그 결과를 출력하는 프로그램을 작성하고 실행\n",
    "하라\n",
    "2. 1마일은 1.609km이다. 키보드에서 마일(정수)을 입력 받아 km로 변환해 출력하는 프로그램을\n",
    "작성하고 실행하라\n",
    "3. 원의 반지름을 입력 받아 원의 둘레와 원의 면적을 출력하는 프로그램을 작성하라\n"
   ]
  },
  {
   "cell_type": "code",
   "execution_count": null,
   "id": "33ebc13e",
   "metadata": {
    "vscode": {
     "languageId": "plaintext"
    }
   },
   "outputs": [],
   "source": [
    "\n",
    "num1 = float(input(\"첫 번째 실수를 입력하세요: \"))\n",
    "num2 = float(input(\"두 번째 실수를 입력하세요: \"))\n",
    "\n",
    "result = num1 * num2\n",
    "\n",
    "print(f\"입력한 두 실수의 곱은 {result}입니다.\")"
   ]
  },
  {
   "cell_type": "code",
   "execution_count": null,
   "id": "2c417c42",
   "metadata": {
    "vscode": {
     "languageId": "plaintext"
    }
   },
   "outputs": [],
   "source": []
  }
 ],
 "metadata": {
  "language_info": {
   "name": "python"
  }
 },
 "nbformat": 4,
 "nbformat_minor": 5
}
