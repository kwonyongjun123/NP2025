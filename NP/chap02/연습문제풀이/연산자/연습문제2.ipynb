{
 "cells": [
  {
   "cell_type": "markdown",
   "id": "e947c3f2",
   "metadata": {},
   "source": [
    "1. 초를 입력하면 분과 초로 표시하는 프로그램. 예를 들어, 200초를 입력하면 3분 20초로 표현하\n",
    "라\n",
    "2. 분(min)을 입력 하면, 일, 시간, 분으로 출력하는 프로그램을 만들어라. (예 : 1550분은 1일 1\n",
    "시간 50분)\n",
    "3. 500만원을 년이율 5%로 복리 저금했을 때 5년 후의 원리금의 합계를 출력하는 프로그램\n",
    "4. 1부터 n까지의 합은 n(n+1)/2로 주어진다. 1부터 100까지의 합을 구하여 출력하는 프로그램을\n",
    "작성하고 실행하라.\n",
    "5. 판매자가 딸기와 포도를 판매하고 있다. 포도 한 알의 무게는 75g이고 딸기 한 알의 무게는\n",
    "113.5g이다. 사용자로부터 포도 알의 개수와 딸기의 개수를 입력 받아 총 무게를 계산하여 출력\n",
    "하는 프로그램을 작성하고 실행하라.\n"
   ]
  },
  {
   "cell_type": "code",
   "execution_count": null,
   "id": "3c7d90e7",
   "metadata": {
    "vscode": {
     "languageId": "plaintext"
    }
   },
   "outputs": [],
   "source": [
    "#1\n",
    "seconds = int(input())\n",
    "\n",
    "minutes = seconds // 60\n",
    "remaining_seconds = seconds % 60\n",
    "\n",
    "print(f\"{seconds}초는 {minutes}분 {remaining_seconds}초로 표현됩니다\")"
   ]
  },
  {
   "cell_type": "code",
   "execution_count": null,
   "id": "b90b08f8",
   "metadata": {
    "vscode": {
     "languageId": "plaintext"
    }
   },
   "outputs": [],
   "source": [
    "#2\n",
    "total_minutes = int(input())\n",
    "\n",
    "minutes_in_hour = 60\n",
    "minutes_in_day = 24 * minutes_in_hour\n",
    "\n",
    "days = total_minutes // minutes_in_day\n",
    "remaining_minutes_after_days = total_minutes % minutes_in_day\n",
    "\n",
    "hours = remaining_minutes_after_days // minutes_in_hour\n",
    "minutes = remaining_minutes_after_days % minutes_in_hour\n",
    "\n",
    "print(f\"{total_minutes}분은 {days}일 {hours}시간 {minutes}분입니다\")"
   ]
  },
  {
   "cell_type": "code",
   "execution_count": null,
   "id": "17e6e125",
   "metadata": {
    "vscode": {
     "languageId": "plaintext"
    }
   },
   "outputs": [],
   "source": [
    "#3\n",
    "principal = 5000000\n",
    "annual_rate = 0.05\n",
    "years = 5\n",
    "\n",
    "final_amount = principal * (1 + annual_rate) ** years\n",
    "\n",
    "print(f\"5년 후 원리금의 합계: {final_amount:.2f}원\")"
   ]
  },
  {
   "cell_type": "code",
   "execution_count": null,
   "id": "55ae2263",
   "metadata": {
    "vscode": {
     "languageId": "plaintext"
    }
   },
   "outputs": [],
   "source": [
    "#4\n",
    "n = 100\n",
    "\n",
    "total_sum = n * (n + 1) // 2\n",
    "\n",
    "print(f\"1부터 {n}까지의 합: {total_sum}\")"
   ]
  },
  {
   "cell_type": "code",
   "execution_count": null,
   "id": "cf46e703",
   "metadata": {
    "vscode": {
     "languageId": "plaintext"
    }
   },
   "outputs": [],
   "source": [
    "#5\n",
    "grape_weight = 75\n",
    "strawberry_weight = 113.5\n",
    "\n",
    "grape_count = int(input())\n",
    "strawberry_count = int(input())\n",
    "\n",
    "total_grape_weight = grape_count * grape_weight\n",
    "total_strawberry_weight = strawberry_count * strawberry_weight\n",
    "\n",
    "total_weight = total_grape_weight + total_strawberry_weight\n",
    "\n",
    "print(f\"총 무게: {total_weight}g\")"
   ]
  }
 ],
 "metadata": {
  "language_info": {
   "name": "python"
  }
 },
 "nbformat": 4,
 "nbformat_minor": 5
}
