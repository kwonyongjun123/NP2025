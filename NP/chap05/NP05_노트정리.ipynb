{
 "cells": [
  {
   "cell_type": "code",
   "execution_count": null,
   "id": "e16a8079",
   "metadata": {},
   "outputs": [],
   "source": [
    "def add(a, b);\n",
    "    return a + b\n",
    "\n",
    "def greet(name);"
   ]
  }
 ],
 "metadata": {
  "language_info": {
   "name": "python"
  }
 },
 "nbformat": 4,
 "nbformat_minor": 5
}
