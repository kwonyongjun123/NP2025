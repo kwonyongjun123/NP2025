{
 "cells": [
  {
   "cell_type": "markdown",
   "id": "b13b6cfd",
   "metadata": {},
   "source": [
    "1. 두 개의 매개변수 n, m을 전달받아 m x n개의 * 상자를 출력하는 프로그램을 함수로 작성\n",
    "예: 2, 4 → ****\n",
    " ****\n",
    "2. 하나의 숫자를 전달받아 숫자의 자리 합을 구하는 함수를 작성\n",
    "예: 123 → 1+2+3 = 6\n",
    "3. 두 개의 문자열이 서로 다른 처음 위치를 반환하는 함수를 작성. 두 개의 문자열이 같으면 -1을\n",
    "반환\n",
    "4. 숫자를 전달받아 그 수의 약수를 리스트로 반환하는 함수를 작성\n",
    "5. 문자열과 하나의 문자를 전달받아 문자열에서 문자의 위치를 모두 찾아 리스트로 반환하는 함수\n",
    "를 작성\n",
    "6. 재귀 함수를 이용하여 1부터 100까지의 합을 계산하는 프로그램\n"
   ]
  },
  {
   "cell_type": "code",
   "execution_count": null,
   "id": "d2b7deee",
   "metadata": {
    "vscode": {
     "languageId": "plaintext"
    }
   },
   "outputs": [],
   "source": [
    "#1\n",
    "def print_box(m, n):\n",
    "    for _ in range(m):\n",
    "        print('*' * n)\n",
    "\n",
    "print_box(2, 4)\n",
    "print_box(3, 5)"
   ]
  },
  {
   "cell_type": "code",
   "execution_count": null,
   "id": "9f3debd5",
   "metadata": {
    "vscode": {
     "languageId": "plaintext"
    }
   },
   "outputs": [],
   "source": [
    "#2\n",
    "def sum_digits(number):\n",
    "    total = 0\n",
    "    for digit in str(number):\n",
    "        total += int(digit)\n",
    "    return total\n",
    "\n",
    "print(sum_digits(123))\n",
    "print(sum_digits(98765))"
   ]
  },
  {
   "cell_type": "code",
   "execution_count": null,
   "id": "6961e2e8",
   "metadata": {
    "vscode": {
     "languageId": "plaintext"
    }
   },
   "outputs": [],
   "source": [
    "#3\n",
    "def find_diff_index(s1, s2):\n",
    "    min_len = min(len(s1), len(s2))\n",
    "    \n",
    "    for i in range(min_len):\n",
    "        if s1[i] != s2[i]:\n",
    "            return i\n",
    "            \n",
    "    if len(s1) != len(s2):\n",
    "        return min_len\n",
    "        \n",
    "    return -1\n",
    "\n",
    "print(find_diff_index(\"hello\", \"hellp\"))\n",
    "print(find_diff_index(\"apple\", \"apple\"))\n",
    "print(find_diff_index(\"apple\", \"appl\"))"
   ]
  },
  {
   "cell_type": "code",
   "execution_count": null,
   "id": "4156d51e",
   "metadata": {
    "vscode": {
     "languageId": "plaintext"
    }
   },
   "outputs": [],
   "source": [
    "#4\n",
    "def get_divisors(number):\n",
    "    divisors = []\n",
    "    for i in range(1, number + 1):\n",
    "        if number % i == 0:\n",
    "            divisors.append(i)\n",
    "    return divisors\n",
    "\n",
    "print(get_divisors(12))\n",
    "print(get_divisors(7))"
   ]
  },
  {
   "cell_type": "code",
   "execution_count": null,
   "id": "076e56b3",
   "metadata": {
    "vscode": {
     "languageId": "plaintext"
    }
   },
   "outputs": [],
   "source": [
    "#5\n",
    "def find_all_positions(text, char):\n",
    "    positions = []\n",
    "    for index, current_char in enumerate(text):\n",
    "        if current_char == char:\n",
    "            positions.append(index)\n",
    "    return positions\n",
    "\n",
    "print(find_all_positions(\"banana\", 'a'))\n",
    "print(find_all_positions(\"programming\", 'm'))"
   ]
  },
  {
   "cell_type": "code",
   "execution_count": null,
   "id": "93025158",
   "metadata": {
    "vscode": {
     "languageId": "plaintext"
    }
   },
   "outputs": [],
   "source": [
    "#6\n",
    "def recursive_sum(n):\n",
    "    if n <= 0:\n",
    "        return 0\n",
    "    return n + recursive_sum(n - 1)\n",
    "\n",
    "n = 100\n",
    "result = recursive_sum(n)\n",
    "print(f\"1부터 {n}까지의 합 (재귀): {result}\")"
   ]
  }
 ],
 "metadata": {
  "language_info": {
   "name": "python"
  }
 },
 "nbformat": 4,
 "nbformat_minor": 5
}
