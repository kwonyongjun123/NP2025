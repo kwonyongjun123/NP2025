{
 "cells": [
  {
   "cell_type": "markdown",
   "id": "e047a46a",
   "metadata": {},
   "source": [
    "❖ 다음 딕셔너리에 대해 물음에 답하라.\n",
    "days = {'January':31, 'February':28, 'March':31, 'April':30,\n",
    "'May':31, 'June':30, 'July':31, 'August':31,\n",
    "'September':30, 'October':31, 'November':30, 'December':31}\n",
    "• 사용자가 월을 입력하면 해당 월에 일수를 출력하라\n",
    "• 알파벳 순서로 모든 월을 출력하라\n",
    "• 일수가 31인 월을 모두 출력하라\n",
    "• 월의 일수를 기준으로 오름차순으로 (key-value) 쌍을 출력하라\n",
    "• 사용자가 월을 3자리만 입력하면 월의 일수를 출력하라.(Jan, Feb 등)"
   ]
  },
  {
   "cell_type": "code",
   "execution_count": null,
   "id": "fb997cc0",
   "metadata": {
    "vscode": {
     "languageId": "plaintext"
    }
   },
   "outputs": [],
   "source": [
    "month_input = input()\n",
    "\n",
    "days_in_month = days.get(month_input)\n",
    "\n",
    "if days_in_month is not None:\n",
    "    print(f\"{month_input}의 일수는 {days_in_month}일입니다\")\n",
    "else:\n",
    "    print(f\"'{month_input}'는 유효한 월 이름이 아닙니다\")"
   ]
  },
  {
   "cell_type": "code",
   "execution_count": null,
   "id": "3f6abe15",
   "metadata": {
    "vscode": {
     "languageId": "plaintext"
    }
   },
   "outputs": [],
   "source": [
    "sorted_months = sorted(days.keys())\n",
    "print(f\"알파벳 순서로 정렬된 월: {sorted_months}\")"
   ]
  },
  {
   "cell_type": "code",
   "execution_count": null,
   "id": "ad01d425",
   "metadata": {
    "vscode": {
     "languageId": "plaintext"
    }
   },
   "outputs": [],
   "source": [
    "months_with_31_days = [month for month, count in days.items() if count == 31]\n",
    "print(f\"일수가 31일인 월: {months_with_31_days}\")"
   ]
  },
  {
   "cell_type": "code",
   "execution_count": null,
   "id": "b6ebda96",
   "metadata": {
    "vscode": {
     "languageId": "plaintext"
    }
   },
   "outputs": [],
   "source": [
    "# key=lambda item: item[1]은 튜플의 두 번째 요소(값, 일수)를 정렬 기준으로 지정\n",
    "sorted_by_days = sorted(days.items(), key=lambda item: item[1])\n",
    "\n",
    "print(\"일수 기준 오름차순 정렬:\")\n",
    "for month, count in sorted_by_days:\n",
    "    print(f\"('{month}', {count})\")"
   ]
  },
  {
   "cell_type": "code",
   "execution_count": null,
   "id": "17bd5953",
   "metadata": {
    "vscode": {
     "languageId": "plaintext"
    }
   },
   "outputs": [],
   "source": [
    "abbr_month_input = input()\n",
    "\n",
    "found_days = None\n",
    "for month, count in days.items():\n",
    "    if month[:3] == abbr_month_input:\n",
    "        found_days = count\n",
    "        break\n",
    "\n",
    "if found_days is not None:\n",
    "    print(f\"{abbr_month_input}의 일수는 {found_days}일입니다\")\n",
    "else:\n",
    "    print(f\"'{abbr_month_input}'는 유효한 3자리 월 약자가 아닙니다\")"
   ]
  }
 ],
 "metadata": {
  "language_info": {
   "name": "python"
  }
 },
 "nbformat": 4,
 "nbformat_minor": 5
}
