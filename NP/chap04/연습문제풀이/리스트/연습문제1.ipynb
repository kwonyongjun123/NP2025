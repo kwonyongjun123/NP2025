{
 "cells": [
  {
   "cell_type": "markdown",
   "id": "1a5244ab",
   "metadata": {},
   "source": [
    "❖ 3명 이상 친구 이름 리스트를 작성하고 다음 내용을 프로그램하시오\n",
    "• insert()로 맨 앞에 새로운 친구 추가\n",
    "• insert()로 3번째 위치에 새로운 친구 추가\n",
    "• append()로 마지막에 친구 추가\n",
    "❖ 리스트 [1, 2, 3]에 대해 다음과 같은 처리를 하라.\n",
    "• 두 번째 요소를 17로 수정\n",
    "• 리스트에 4, 5, 6을 추가\n",
    "• 첫 번째 요소 제거\n",
    "• 리스트를 요소 순서대로 배열하기\n",
    "• 인덱스 3에 25넣기\n"
   ]
  },
  {
   "cell_type": "code",
   "execution_count": null,
   "id": "71d93f0f",
   "metadata": {
    "vscode": {
     "languageId": "plaintext"
    }
   },
   "outputs": [],
   "source": [
    "#1\n",
    "friends = [\"Alice\", \"Bob\", \"Charlie\", \"David\"]\n",
    "\n",
    "print(f\"초기 리스트: {friends}\")\n",
    "\n",
    "# insert()로 맨 앞에 새로운 친구 추가\n",
    "friends.insert(0, \"Eve\")\n",
    "print(f\"맨 앞에 'Eve' 추가 후: {friends}\")\n",
    "\n",
    "# insert()로 3번째 위치(인덱스 2)에 새로운 친구 추가\n",
    "friends.insert(2, \"Frank\")\n",
    "print(f\"3번째 위치에 'Frank' 추가 후: {friends}\")\n",
    "\n",
    "# append()로 마지막에 친구 추가\n",
    "friends.append(\"Grace\")\n",
    "print(f\"마지막에 'Grace' 추가 후: {friends}\")"
   ]
  },
  {
   "cell_type": "code",
   "execution_count": null,
   "id": "25e438ff",
   "metadata": {
    "vscode": {
     "languageId": "plaintext"
    }
   },
   "outputs": [],
   "source": [
    "#2\n",
    "data_list = [1, 2, 3]\n",
    "print(f\"초기 리스트: {data_list}\")\n",
    "\n",
    "# 두 번째 요소(인덱스 1)를 17로 수정\n",
    "data_list[1] = 17\n",
    "print(f\"두 번째 요소 수정 후: {data_list}\")\n",
    "\n",
    "# 리스트에 4, 5, 6을 추가 (extend() 메서드 사용)\n",
    "data_list.extend([4, 5, 6])\n",
    "print(f\"4, 5, 6 추가 후: {data_list}\")\n",
    "\n",
    "# 첫 번째 요소 제거 (pop() 메서드로 인덱스 0 요소 제거)\n",
    "data_list.pop(0)\n",
    "print(f\"첫 번째 요소 제거 후: {data_list}\")\n",
    "\n",
    "# 리스트를 요소 순서대로 배열하기 (sort() 메서드 사용)\n",
    "data_list.sort()\n",
    "print(f\"요소 순서대로 배열 후 (정렬): {data_list}\")\n",
    "\n",
    "# 인덱스 3에 25넣기 (insert() 메서드 사용)\n",
    "data_list.insert(3, 25)\n",
    "print(f\"인덱스 3에 25 삽입 후: {data_list}\")"
   ]
  }
 ],
 "metadata": {
  "language_info": {
   "name": "python"
  }
 },
 "nbformat": 4,
 "nbformat_minor": 5
}
