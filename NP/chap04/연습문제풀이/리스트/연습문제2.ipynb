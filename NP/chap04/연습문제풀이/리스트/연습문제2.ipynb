{
 "cells": [
  {
   "cell_type": "markdown",
   "id": "052ae16e",
   "metadata": {},
   "source": [
    "1. for 루프를 이용하여 다음과 같은 리스트를 생성하라.\n",
    "• 0~49까지의 수로 구성되는 리스트\n",
    "• 1~50까지 수의 제곱으로 구성되는 리스트\n",
    "2. 크기가 같은 두 개의 리스트 L, M을 생성하고 두 리스트의 각 요소 합으로 구성되는 새로운 리스\n",
    "트를 생성하라. 예를 들어 L=[1,2,3]이고 M=[4,5,6]이면 [5,7,9]인 리스트 생성"
   ]
  },
  {
   "cell_type": "code",
   "execution_count": null,
   "id": "01192089",
   "metadata": {
    "vscode": {
     "languageId": "plaintext"
    }
   },
   "outputs": [],
   "source": [
    "#1\n",
    "# 0~49까지의 수로 구성되는 리스트\n",
    "list_a = [i for i in range(50)]\n",
    "print(f\"0~49 리스트: {list_a}\")\n",
    "\n",
    "# 1~50까지 수의 제곱으로 구성되는 리스트\n",
    "list_b = [i ** 2 for i in range(1, 51)]\n",
    "print(f\"1~50 제곱 리스트: {list_b}\")"
   ]
  },
  {
   "cell_type": "code",
   "execution_count": null,
   "id": "132111b5",
   "metadata": {
    "vscode": {
     "languageId": "plaintext"
    }
   },
   "outputs": [],
   "source": [
    "#2\n",
    "L = [1, 2, 3, 10, 20]\n",
    "M = [4, 5, 6, 11, 22]\n",
    "\n",
    "# zip()을 사용하여 두 리스트의 요소를 짝지은 후 합산\n",
    "sum_list = [l + m for l, m in zip(L, M)]\n",
    "\n",
    "print(f\"리스트 L: {L}\")\n",
    "print(f\"리스트 M: {M}\")\n",
    "print(f\"합산 리스트: {sum_list}\")"
   ]
  }
 ],
 "metadata": {
  "language_info": {
   "name": "python"
  }
 },
 "nbformat": 4,
 "nbformat_minor": 5
}
